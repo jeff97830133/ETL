{
 "cells": [
  {
   "cell_type": "code",
   "execution_count": 59,
   "metadata": {
    "collapsed": false
   },
   "outputs": [
    {
     "name": "stdout",
     "output_type": "stream",
     "text": [
      "即時轉帳－常見問題\n",
      "Q：超過200萬的轉帳，企業代號要輸入什麼？\n",
      "A：英數字或不輸入\n",
      "Q：即時轉帳，每日營業結束時間為何？\n",
      "A：24小時皆可轉帳，下午3:30為切帳時點,\n",
      "3:30後為次日帳。\n",
      "Q：請問網路銀行有整批即時轉帳嗎？\n",
      "A：目前沒有，建議搭配整批編輯軟體來使用整批預約轉帳功能\n",
      "Q：做跨行通匯即時轉帳,\n",
      "戶名為簡體字(簡體的OS)\n",
      "A：因為簡體字檢核無法判斷,\n",
      "故建議走ATM模式\n",
      "Q：查詢轉帳交易序號重覆？\n",
      "A：網頁cache住了，需清除暫存檔。\n",
      "解決方式：IE瀏覽器/工具/網際網路選項/設定/選擇\"每次查閱畫面時\"。\n",
      "Q：轉帳時，出現憑證ID與簽入ID不符\n",
      "A：請先確定異康安控軟體已經啟動。\n",
      "Q：轉帳超出兩佰萬是否會有其他的資料要輸入?\n",
      "A：因超出兩佰萬系統會自動轉成EDI線路作匯出,故要輸入收款人戶名及身份證字號。\n",
      "Q：做轉帳交易，不知是否成功？\n",
      "A：請至網路異動明細查詢結果。\n",
      "Q：網銀轉帳，鍵入密碼後畫面為空白？\n",
      "A：請重開機，並利用網路異動明細查詢，若無該筆轉帳資料或不成功，則重做一次。\n"
     ]
    }
   ],
   "source": [
    "import requests\n",
    "from bs4 import BeautifulSoup as bs\n",
    "url = 'http://www.hncb.com.tw/ibankqa/ebanking_trans_q1.shtml'\n",
    "res = requests.get(url)\n",
    "res.encoding = 'big5'\n",
    "soup = bs(res.text)\n",
    "soup1 = soup.select('.listbg') \n",
    "soup2 = soup1[0].text.strip()\n",
    "x='\\n'.join(soup2.split())\n",
    "print x\n",
    "    \n"
   ]
  }
 ],
 "metadata": {
  "kernelspec": {
   "display_name": "Python 2",
   "language": "python",
   "name": "python2"
  },
  "language_info": {
   "codemirror_mode": {
    "name": "ipython",
    "version": 2
   },
   "file_extension": ".py",
   "mimetype": "text/x-python",
   "name": "python",
   "nbconvert_exporter": "python",
   "pygments_lexer": "ipython2",
   "version": "2.7.11"
  }
 },
 "nbformat": 4,
 "nbformat_minor": 0
}
